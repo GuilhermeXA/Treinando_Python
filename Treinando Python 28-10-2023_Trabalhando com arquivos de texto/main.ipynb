{
 "cells": [
  {
   "cell_type": "code",
   "execution_count": 6,
   "id": "1a19f483",
   "metadata": {},
   "outputs": [
    {
     "name": "stdout",
     "output_type": "stream",
     "text": [
      "pythonimpressionador@gmail.com\n",
      "['Prezados,\\n', '\\n', 'O faturamento desse mÃªs foi de: R$15.000\\n', '\\n', 'Qualquer dÃºvida que tiverem, Ã© sÃ³ falar.\\n', '\\n', 'Att.,\\n', 'Lira']\n"
     ]
    }
   ],
   "source": [
    "# read -> para arquivos simples (ex: senhas, tokens, informações únicas)\n",
    "with open(\"email.txt\", \"r\") as arquivo:\n",
    "    email = arquivo.read()\n",
    "print(email)\n"
   ]
  },
  {
   "cell_type": "code",
   "execution_count": 10,
   "id": "d863f83e",
   "metadata": {},
   "outputs": [
    {
     "name": "stdout",
     "output_type": "stream",
     "text": [
      "['Prezados,\\n', '\\n', 'O faturamento desse mÃªs foi de: R$15.000\\n', '\\n', 'Qualquer dÃºvida que tiverem, Ã© sÃ³ falar.\\n', '\\n', 'Att.,\\n', 'Lira']\n"
     ]
    }
   ],
   "source": [
    "# read lines -> para arquivos maiores\n",
    "with open(\"mensagem.txt\", \"r\") as arquivo2:\n",
    "    mensagem = arquivo2.readlines()\n",
    "print(mensagem)"
   ]
  },
  {
   "cell_type": "code",
   "execution_count": 11,
   "id": "9d673019",
   "metadata": {},
   "outputs": [
    {
     "name": "stdout",
     "output_type": "stream",
     "text": [
      "O faturamento desse mÃªs foi de: R$15.000\n",
      "\n"
     ]
    }
   ],
   "source": [
    "#Exibindo somente uma linha determinada\n",
    "for linha in mensagem:\n",
    "    if \"faturamento\" in linha:\n",
    "        print(linha)"
   ]
  },
  {
   "cell_type": "code",
   "execution_count": 15,
   "id": "13d1cf7d",
   "metadata": {},
   "outputs": [
    {
     "name": "stdout",
     "output_type": "stream",
     "text": [
      "['Prezados,\\n', '\\n', 'O faturamento desse mês foi de: R$15.000\\n', '\\n', 'Qualquer dúvida que tiverem, é só falar.\\n', '\\n', 'Att.,\\n', 'Lira']\n",
      "O faturamento desse mês foi de: R$15.000\n",
      "\n"
     ]
    }
   ],
   "source": [
    "#Exibindo com configuração de caracteres especiais\n",
    "#read lines -> para arquivos maiores\n",
    "with open(\"mensagem.txt\", \"r\", encoding=\"utf-8\") as arquivo3:\n",
    "    mensagem2 = arquivo3.readlines()\n",
    "print(mensagem2)\n",
    "\n",
    "for linha in mensagem2:\n",
    "    if \"faturamento\" in linha:\n",
    "        print(linha)\n"
   ]
  },
  {
   "cell_type": "code",
   "execution_count": 19,
   "id": "589a63a3",
   "metadata": {},
   "outputs": [],
   "source": [
    "#Mudando dado escrito no arquivo\n",
    "with open(\"nova_senha.txt\", \"w\") as arquivo4:\n",
    "    arquivo4.write(\"456789\")"
   ]
  },
  {
   "cell_type": "code",
   "execution_count": 20,
   "id": "891028e1",
   "metadata": {},
   "outputs": [],
   "source": [
    "#Adicionando uma informação\n",
    "with open(\"email.txt\", \"a\") as arquivo5:\n",
    "    arquivo5.write(\"teste@gmail.com\")"
   ]
  },
  {
   "cell_type": "code",
   "execution_count": 21,
   "id": "9aaedee6",
   "metadata": {},
   "outputs": [],
   "source": [
    "#Adicionando uma informação na linha de baixo\n",
    "with open(\"email.txt\", \"a\") as arquivo5:\n",
    "    arquivo5.write(\"\\nteste@gmail.com\")"
   ]
  }
 ],
 "metadata": {
  "kernelspec": {
   "display_name": "Python 3 (ipykernel)",
   "language": "python",
   "name": "python3"
  },
  "language_info": {
   "codemirror_mode": {
    "name": "ipython",
    "version": 3
   },
   "file_extension": ".py",
   "mimetype": "text/x-python",
   "name": "python",
   "nbconvert_exporter": "python",
   "pygments_lexer": "ipython3",
   "version": "3.9.7"
  }
 },
 "nbformat": 4,
 "nbformat_minor": 5
}
