{
 "cells": [
  {
   "cell_type": "code",
   "execution_count": null,
   "id": "e18d1026",
   "metadata": {},
   "outputs": [],
   "source": [
    "#leitura - rb -> Arquivo deve existir\n",
    "#Escrita e leitura - r+b -> Arquivo deve existir\n",
    "#Escrita - wb -> sobrescreve o arquivo, se existir"
   ]
  },
  {
   "cell_type": "code",
   "execution_count": null,
   "id": "7f0d7280",
   "metadata": {},
   "outputs": [],
   "source": [
    "#arq = open(filename, mode='rb')"
   ]
  },
  {
   "cell_type": "code",
   "execution_count": 1,
   "id": "c18f0a1d",
   "metadata": {},
   "outputs": [],
   "source": [
    "try:\n",
    "    arq = open(\"teste.bin\", mode=\"wb\")\n",
    "except:\n",
    "    print('Não foi possível abrir')"
   ]
  },
  {
   "cell_type": "code",
   "execution_count": 3,
   "id": "ddfdeacf",
   "metadata": {},
   "outputs": [
    {
     "name": "stdout",
     "output_type": "stream",
     "text": [
      "b'\\x00\\x01\\x86\\xa0'\n"
     ]
    }
   ],
   "source": [
    "#Convertendo o objeto para tipo bytes\n",
    "numero = 100000\n",
    "bin = numero.to_bytes(4, byteorder='big', signed=True)\n",
    "print(bin)"
   ]
  },
  {
   "cell_type": "code",
   "execution_count": 4,
   "id": "b8cfe59f",
   "metadata": {},
   "outputs": [
    {
     "data": {
      "text/plain": [
       "4"
      ]
     },
     "execution_count": 4,
     "metadata": {},
     "output_type": "execute_result"
    }
   ],
   "source": [
    "#Escrevendo no binário agora\n",
    "arq.write(bin)"
   ]
  },
  {
   "cell_type": "code",
   "execution_count": 5,
   "id": "bafe6fa0",
   "metadata": {},
   "outputs": [],
   "source": [
    "#Fechando o arquivo\n",
    "arq.close()"
   ]
  },
  {
   "cell_type": "code",
   "execution_count": 7,
   "id": "4152ee3b",
   "metadata": {},
   "outputs": [
    {
     "name": "stdout",
     "output_type": "stream",
     "text": [
      "b'\\x00\\x01\\x86\\xa0'\n"
     ]
    }
   ],
   "source": [
    "#pritando o arquivo\n",
    "print(bin)"
   ]
  },
  {
   "cell_type": "code",
   "execution_count": 13,
   "id": "a3265b09",
   "metadata": {},
   "outputs": [
    {
     "name": "stdout",
     "output_type": "stream",
     "text": [
      "b'\\x00\\x01\\x86\\xa0'\n",
      "100000\n",
      "<class 'bytes'>\n",
      "<class 'int'>\n"
     ]
    }
   ],
   "source": [
    "#Abrindo o arquivo\n",
    "try:\n",
    "    arq = open(\"teste.bin\", \"rb\")\n",
    "except:\n",
    "    print(\"Houve um erro\")\n",
    "\n",
    "x = arq.read(4)\n",
    "print(x)\n",
    "\n",
    "#Convertendo bin para inteiro\n",
    "y = int.from_bytes(x, byteorder='big', signed=True)\n",
    "print(y)\n",
    "\n",
    "#Descobrindo o tipo das variáveis antes e depois da conversão\n",
    "print(type(x))\n",
    "print(type(y))"
   ]
  }
 ],
 "metadata": {
  "kernelspec": {
   "display_name": "Python 3 (ipykernel)",
   "language": "python",
   "name": "python3"
  },
  "language_info": {
   "codemirror_mode": {
    "name": "ipython",
    "version": 3
   },
   "file_extension": ".py",
   "mimetype": "text/x-python",
   "name": "python",
   "nbconvert_exporter": "python",
   "pygments_lexer": "ipython3",
   "version": "3.9.7"
  }
 },
 "nbformat": 4,
 "nbformat_minor": 5
}
